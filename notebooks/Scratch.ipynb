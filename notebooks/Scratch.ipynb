{
 "cells": [
  {
   "cell_type": "code",
   "execution_count": 1,
   "metadata": {
    "collapsed": false
   },
   "outputs": [
    {
     "data": {
      "text/plain": [
       "<pyspark.context.SparkContext at 0x7fbf28f430d0>"
      ]
     },
     "execution_count": 1,
     "metadata": {},
     "output_type": "execute_result"
    }
   ],
   "source": [
    "sc"
   ]
  },
  {
   "cell_type": "code",
   "execution_count": 2,
   "metadata": {
    "collapsed": false
   },
   "outputs": [
    {
     "name": "stdout",
     "output_type": "stream",
     "text": [
      "total 45G\r\n",
      "drwxr-xr-x 2 ubuntu ubuntu 4.0K Oct 19 13:32 .\r\n",
      "drwxr-xr-x 6 root   root   4.0K Oct 19 12:20 ..\r\n",
      "-rw-rw-r-- 1 ubuntu ubuntu  14K Oct 19 12:59 log\r\n",
      "-rw-rw-r-- 1 ubuntu ubuntu 639M Oct 19 13:26 pr_day_BCSD_historical_r1i1p1_ACCESS1-0_1997.nc\r\n",
      "-rw-rw-r-- 1 ubuntu ubuntu 757M Oct 19 13:13 pr_day_BCSD_historical_r1i1p1_bcc-csm1-1_1997.nc\r\n",
      "-rw-rw-r-- 1 ubuntu ubuntu 745M Oct 19 13:19 pr_day_BCSD_historical_r1i1p1_BNU-ESM_1997.nc\r\n",
      "-rw-rw-r-- 1 ubuntu ubuntu 773M Oct 19 13:04 pr_day_BCSD_historical_r1i1p1_CanESM2_1997.nc\r\n",
      "-rw-rw-r-- 1 ubuntu ubuntu 568M Oct 19 13:14 pr_day_BCSD_historical_r1i1p1_CCSM4_1997.nc\r\n",
      "-rw-rw-r-- 1 ubuntu ubuntu 573M Oct 19 13:06 pr_day_BCSD_historical_r1i1p1_CESM1-BGC_1997.nc\r\n",
      "-rw-rw-r-- 1 ubuntu ubuntu 622M Oct 19 13:21 pr_day_BCSD_historical_r1i1p1_CNRM-CM5_1997.nc\r\n",
      "-rw-rw-r-- 1 ubuntu ubuntu 664M Oct 19 13:24 pr_day_BCSD_historical_r1i1p1_CSIRO-Mk3-6-0_1997.nc\r\n",
      "-rw-rw-r-- 1 ubuntu ubuntu 666M Oct 19 13:08 pr_day_BCSD_historical_r1i1p1_GFDL-CM3_1997.nc\r\n",
      "-rw-rw-r-- 1 ubuntu ubuntu 694M Oct 19 13:10 pr_day_BCSD_historical_r1i1p1_GFDL-ESM2G_1997.nc\r\n",
      "-rw-rw-r-- 1 ubuntu ubuntu 691M Oct 19 13:17 pr_day_BCSD_historical_r1i1p1_GFDL-ESM2M_1997.nc\r\n",
      "-rw-rw-r-- 1 ubuntu ubuntu 635M Oct 19 13:01 pr_day_BCSD_historical_r1i1p1_inmcm4_1997.nc\r\n",
      "-rw-rw-r-- 1 ubuntu ubuntu 741M Oct 19 13:02 pr_day_BCSD_historical_r1i1p1_IPSL-CM5A-LR_1997.nc\r\n",
      "-rw-rw-r-- 1 ubuntu ubuntu 668M Oct 19 13:01 pr_day_BCSD_historical_r1i1p1_IPSL-CM5A-MR_1997.nc\r\n",
      "-rw-rw-r-- 1 ubuntu ubuntu 628M Oct 19 13:15 pr_day_BCSD_historical_r1i1p1_MIROC5_1997.nc\r\n",
      "-rw-rw-r-- 1 ubuntu ubuntu 757M Oct 19 13:30 pr_day_BCSD_historical_r1i1p1_MIROC-ESM_1997.nc\r\n",
      "-rw-rw-r-- 1 ubuntu ubuntu 759M Oct 19 13:28 pr_day_BCSD_historical_r1i1p1_MIROC-ESM-CHEM_1997.nc\r\n",
      "-rw-rw-r-- 1 ubuntu ubuntu 672M Oct 19 13:06 pr_day_BCSD_historical_r1i1p1_MPI-ESM-LR_1997.nc\r\n",
      "-rw-rw-r-- 1 ubuntu ubuntu 666M Oct 19 13:27 pr_day_BCSD_historical_r1i1p1_MPI-ESM-MR_1997.nc\r\n",
      "-rw-rw-r-- 1 ubuntu ubuntu 571M Oct 19 13:24 pr_day_BCSD_historical_r1i1p1_MRI-CGCM3_1997.nc\r\n",
      "-rw-rw-r-- 1 ubuntu ubuntu 696M Oct 19 13:02 pr_day_BCSD_historical_r1i1p1_NorESM1-M_1997.nc\r\n",
      "-rw-rw-r-- 1 ubuntu ubuntu 763M Oct 19 13:09 tasmax_day_BCSD_historical_r1i1p1_ACCESS1-0_1997.nc\r\n",
      "-rw-rw-r-- 1 ubuntu ubuntu 737M Oct 19 13:31 tasmax_day_BCSD_historical_r1i1p1_bcc-csm1-1_1997.nc\r\n",
      "-rw-rw-r-- 1 ubuntu ubuntu 739M Oct 19 13:18 tasmax_day_BCSD_historical_r1i1p1_BNU-ESM_1997.nc\r\n",
      "-rw-rw-r-- 1 ubuntu ubuntu 740M Oct 19 13:04 tasmax_day_BCSD_historical_r1i1p1_CanESM2_1997.nc\r\n",
      "-rw-rw-r-- 1 ubuntu ubuntu 763M Oct 19 13:11 tasmax_day_BCSD_historical_r1i1p1_CCSM4_1997.nc\r\n",
      "-rw-rw-r-- 1 ubuntu ubuntu 762M Oct 19 13:16 tasmax_day_BCSD_historical_r1i1p1_CESM1-BGC_1997.nc\r\n",
      "-rw-rw-r-- 1 ubuntu ubuntu 755M Oct 19 13:22 tasmax_day_BCSD_historical_r1i1p1_CNRM-CM5_1997.nc\r\n",
      "-rw-rw-r-- 1 ubuntu ubuntu 751M Oct 19 13:29 tasmax_day_BCSD_historical_r1i1p1_CSIRO-Mk3-6-0_1997.nc\r\n",
      "-rw-rw-r-- 1 ubuntu ubuntu 751M Oct 19 13:32 tasmax_day_BCSD_historical_r1i1p1_GFDL-CM3_1997.nc\r\n",
      "-rw-rw-r-- 1 ubuntu ubuntu 754M Oct 19 13:20 tasmax_day_BCSD_historical_r1i1p1_GFDL-ESM2G_1997.nc\r\n",
      "-rw-rw-r-- 1 ubuntu ubuntu 755M Oct 19 13:25 tasmax_day_BCSD_historical_r1i1p1_GFDL-ESM2M_1997.nc\r\n",
      "-rw-rw-r-- 1 ubuntu ubuntu 761M Oct 19 13:12 tasmax_day_BCSD_historical_r1i1p1_inmcm4_1997.nc\r\n",
      "-rw-rw-r-- 1 ubuntu ubuntu 757M Oct 19 13:07 tasmax_day_BCSD_historical_r1i1p1_IPSL-CM5A-LR_1997.nc\r\n",
      "-rw-rw-r-- 1 ubuntu ubuntu 761M Oct 19 13:27 tasmax_day_BCSD_historical_r1i1p1_IPSL-CM5A-MR_1997.nc\r\n",
      "-rw-rw-r-- 1 ubuntu ubuntu 757M Oct 19 13:29 tasmax_day_BCSD_historical_r1i1p1_MIROC5_1997.nc\r\n",
      "-rw-rw-r-- 1 ubuntu ubuntu 740M Oct 19 13:23 tasmax_day_BCSD_historical_r1i1p1_MIROC-ESM_1997.nc\r\n",
      "-rw-rw-r-- 1 ubuntu ubuntu 741M Oct 19 13:14 tasmax_day_BCSD_historical_r1i1p1_MIROC-ESM-CHEM_1997.nc\r\n",
      "-rw-rw-r-- 1 ubuntu ubuntu 753M Oct 19 13:01 tasmax_day_BCSD_historical_r1i1p1_MPI-ESM-LR_1997.nc\r\n",
      "-rw-rw-r-- 1 ubuntu ubuntu 752M Oct 19 13:05 tasmax_day_BCSD_historical_r1i1p1_MPI-ESM-MR_1997.nc\r\n",
      "-rw-rw-r-- 1 ubuntu ubuntu 761M Oct 19 13:18 tasmax_day_BCSD_historical_r1i1p1_MRI-CGCM3_1997.nc\r\n",
      "-rw-rw-r-- 1 ubuntu ubuntu 760M Oct 19 13:03 tasmax_day_BCSD_historical_r1i1p1_NorESM1-M_1997.nc\r\n",
      "-rw-rw-r-- 1 ubuntu ubuntu 768M Oct 19 13:09 tasmin_day_BCSD_historical_r1i1p1_ACCESS1-0_1997.nc\r\n",
      "-rw-rw-r-- 1 ubuntu ubuntu 743M Oct 19 13:12 tasmin_day_BCSD_historical_r1i1p1_bcc-csm1-1_1997.nc\r\n",
      "-rw-rw-r-- 1 ubuntu ubuntu 743M Oct 19 13:07 tasmin_day_BCSD_historical_r1i1p1_BNU-ESM_1997.nc\r\n",
      "-rw-rw-r-- 1 ubuntu ubuntu 744M Oct 19 13:19 tasmin_day_BCSD_historical_r1i1p1_CanESM2_1997.nc\r\n",
      "-rw-rw-r-- 1 ubuntu ubuntu 768M Oct 19 13:20 tasmin_day_BCSD_historical_r1i1p1_CCSM4_1997.nc\r\n",
      "-rw-rw-r-- 1 ubuntu ubuntu 767M Oct 19 13:25 tasmin_day_BCSD_historical_r1i1p1_CESM1-BGC_1997.nc\r\n",
      "-rw-rw-r-- 1 ubuntu ubuntu 761M Oct 19 13:16 tasmin_day_BCSD_historical_r1i1p1_CNRM-CM5_1997.nc\r\n",
      "-rw-rw-r-- 1 ubuntu ubuntu 756M Oct 19 13:28 tasmin_day_BCSD_historical_r1i1p1_CSIRO-Mk3-6-0_1997.nc\r\n",
      "-rw-rw-r-- 1 ubuntu ubuntu 756M Oct 19 13:13 tasmin_day_BCSD_historical_r1i1p1_GFDL-CM3_1997.nc\r\n",
      "-rw-rw-r-- 1 ubuntu ubuntu 759M Oct 19 13:10 tasmin_day_BCSD_historical_r1i1p1_GFDL-ESM2G_1997.nc\r\n",
      "-rw-rw-r-- 1 ubuntu ubuntu 760M Oct 19 13:15 tasmin_day_BCSD_historical_r1i1p1_GFDL-ESM2M_1997.nc\r\n",
      "-rw-rw-r-- 1 ubuntu ubuntu 766M Oct 19 13:30 tasmin_day_BCSD_historical_r1i1p1_inmcm4_1997.nc\r\n",
      "-rw-rw-r-- 1 ubuntu ubuntu 761M Oct 19 13:23 tasmin_day_BCSD_historical_r1i1p1_IPSL-CM5A-LR_1997.nc\r\n",
      "-rw-rw-r-- 1 ubuntu ubuntu 765M Oct 19 13:08 tasmin_day_BCSD_historical_r1i1p1_IPSL-CM5A-MR_1997.nc\r\n",
      "-rw-rw-r-- 1 ubuntu ubuntu 762M Oct 19 13:01 tasmin_day_BCSD_historical_r1i1p1_MIROC5_1997.nc\r\n",
      "-rw-rw-r-- 1 ubuntu ubuntu 744M Oct 19 13:03 tasmin_day_BCSD_historical_r1i1p1_MIROC-ESM_1997.nc\r\n",
      "-rw-rw-r-- 1 ubuntu ubuntu 745M Oct 19 13:05 tasmin_day_BCSD_historical_r1i1p1_MIROC-ESM-CHEM_1997.nc\r\n",
      "-rw-rw-r-- 1 ubuntu ubuntu 758M Oct 19 13:32 tasmin_day_BCSD_historical_r1i1p1_MPI-ESM-LR_1997.nc\r\n",
      "-rw-rw-r-- 1 ubuntu ubuntu 757M Oct 19 13:26 tasmin_day_BCSD_historical_r1i1p1_MPI-ESM-MR_1997.nc\r\n",
      "-rw-rw-r-- 1 ubuntu ubuntu 765M Oct 19 13:21 tasmin_day_BCSD_historical_r1i1p1_MRI-CGCM3_1997.nc\r\n",
      "-rw-rw-r-- 1 ubuntu ubuntu 764M Oct 19 13:17 tasmin_day_BCSD_historical_r1i1p1_NorESM1-M_1997.nc\r\n"
     ]
    }
   ],
   "source": [
    "! ls -alh /data/tmp/"
   ]
  },
  {
   "cell_type": "code",
   "execution_count": 3,
   "metadata": {
    "collapsed": false
   },
   "outputs": [],
   "source": [
    "files = !! ls /data/tmp\n",
    "files = [f for f in files if f.endswith('nc')]"
   ]
  },
  {
   "cell_type": "code",
   "execution_count": 4,
   "metadata": {
    "collapsed": true
   },
   "outputs": [],
   "source": [
    "from netCDF4 import Dataset, num2date"
   ]
  },
  {
   "cell_type": "code",
   "execution_count": 5,
   "metadata": {
    "collapsed": true
   },
   "outputs": [],
   "source": [
    "ds = Dataset(\"/data/tmp/\" + files[0], 'r', format='NETCDF4')"
   ]
  },
  {
   "cell_type": "code",
   "execution_count": 6,
   "metadata": {
    "collapsed": false
   },
   "outputs": [
    {
     "data": {
      "text/plain": [
       "(365, 720, 1440)"
      ]
     },
     "execution_count": 6,
     "metadata": {},
     "output_type": "execute_result"
    }
   ],
   "source": [
    "import numpy as np\n",
    "\n",
    "np.shape(ds['pr'])"
   ]
  },
  {
   "cell_type": "markdown",
   "metadata": {},
   "source": [
    "### Example Avro\n",
    "http://avro.apache.org/docs/1.7.7/gettingstartedpython.html"
   ]
  },
  {
   "cell_type": "code",
   "execution_count": null,
   "metadata": {
    "collapsed": true
   },
   "outputs": [],
   "source": [
    "import avro.schema\n",
    "from avro.datafile import DataFileReader, DataFileWriter\n",
    "from avro.io import DatumReader, DatumWriter\n",
    "import json"
   ]
  },
  {
   "cell_type": "code",
   "execution_count": null,
   "metadata": {
    "collapsed": true
   },
   "outputs": [],
   "source": [
    "python_schema = {\n",
    "    \"namespace\": \"example.avro\",\n",
    "    \"type\": \"record\",\n",
    "    \"name\": \"User\",\n",
    "    \"fields\": [\n",
    "         {\"name\": \"name\", \"type\": \"string\"},\n",
    "         {\"name\": \"favorite_number\",  \"type\": [\"int\", \"null\"]},\n",
    "         {\"name\": \"favorite_color\", \"type\": [\"string\", \"null\"]}\n",
    "     ]\n",
    "}"
   ]
  },
  {
   "cell_type": "code",
   "execution_count": null,
   "metadata": {
    "collapsed": false
   },
   "outputs": [],
   "source": [
    "schema = avro.schema.parse(json.dumps(python_schema))"
   ]
  },
  {
   "cell_type": "code",
   "execution_count": null,
   "metadata": {
    "collapsed": true
   },
   "outputs": [],
   "source": [
    "writer = DataFileWriter(open(\"users.avro\", \"w\"), DatumWriter(), schema)\n",
    "writer.append({\"name\": \"Alyssa\", \"favorite_number\": 256})\n",
    "writer.append({\"name\": \"Ben\", \"favorite_number\": 7, \"favorite_color\": \"red\"})\n",
    "writer.close()"
   ]
  },
  {
   "cell_type": "code",
   "execution_count": null,
   "metadata": {
    "collapsed": false
   },
   "outputs": [],
   "source": [
    "reader = DataFileReader(open(\"users.avro\", \"r\"), DatumReader())\n",
    "for user in reader:\n",
    "    print user\n",
    "reader.close()"
   ]
  },
  {
   "cell_type": "markdown",
   "metadata": {},
   "source": [
    "### NetCDF test"
   ]
  },
  {
   "cell_type": "code",
   "execution_count": null,
   "metadata": {
    "collapsed": true
   },
   "outputs": [],
   "source": [
    "import avro.schema\n",
    "from avro.datafile import DataFileReader, DataFileWriter\n",
    "from avro.io import DatumReader, DatumWriter\n",
    "import json"
   ]
  },
  {
   "cell_type": "code",
   "execution_count": null,
   "metadata": {
    "collapsed": false
   },
   "outputs": [],
   "source": [
    "python_schema = {\n",
    "    \"namespace\": \"com.kitware.nex_gddp\",\n",
    "    \"type\": \"record\",\n",
    "    \"name\": \"GDDP Record\",\n",
    "    \"fields\": [\n",
    "#        {\"name\": \"key\", \"type\": \"string\"},\n",
    "        {\"name\": \"variable\", \"type\": \"float\"},\n",
    "        {\"name\": \"lat\",  \"type\": \"float\"},\n",
    "        {\"name\": \"lon\", \"type\": \"float\"},\n",
    "        {\"name\": \"time\", \"type\": \"long\"},\n",
    "     ]\n",
    "}\n",
    "\n",
    "schema = avro.schema.parse(json.dumps(python_schema))\n",
    "\n",
    "writer = DataFileWriter(open(\"{}.avro\".format(files[0].split(\".\")[0]), \n",
    "                             \"w\"), DatumWriter(), schema)"
   ]
  },
  {
   "cell_type": "markdown",
   "metadata": {},
   "source": [
    "### Scratch"
   ]
  },
  {
   "cell_type": "code",
   "execution_count": 9,
   "metadata": {
    "collapsed": true
   },
   "outputs": [],
   "source": [
    "def cartesian(arrays, out=None):\n",
    "    \"\"\"\n",
    "    Generate a cartesian product of input arrays.\n",
    "\n",
    "    Parameters\n",
    "    ----------\n",
    "    arrays : list of array-like\n",
    "        1-D arrays to form the cartesian product of.\n",
    "    out : ndarray\n",
    "        Array to place the cartesian product in.\n",
    "\n",
    "    Returns\n",
    "    -------\n",
    "    out : ndarray\n",
    "        2-D array of shape (M, len(arrays)) containing cartesian products\n",
    "        formed of input arrays.\n",
    "\n",
    "    Examples\n",
    "    --------\n",
    "    >>> cartesian(([1, 2, 3], [4, 5], [6, 7]))\n",
    "    array([[1, 4, 6],\n",
    "           [1, 4, 7],\n",
    "           [1, 5, 6],\n",
    "           [1, 5, 7],\n",
    "           [2, 4, 6],\n",
    "           [2, 4, 7],\n",
    "           [2, 5, 6],\n",
    "           [2, 5, 7],\n",
    "           [3, 4, 6],\n",
    "           [3, 4, 7],\n",
    "           [3, 5, 6],\n",
    "           [3, 5, 7]])\n",
    "\n",
    "    \"\"\"\n",
    "\n",
    "    arrays = [np.asarray(x) for x in arrays]\n",
    "    dtype = arrays[0].dtype\n",
    "\n",
    "    n = np.prod([x.size for x in arrays])\n",
    "    if out is None:\n",
    "        out = np.zeros([n, len(arrays)], dtype=dtype)\n",
    "\n",
    "    m = n / arrays[0].size\n",
    "    out[:,0] = np.repeat(arrays[0], m)\n",
    "    if arrays[1:]:\n",
    "        cartesian(arrays[1:], out=out[0:m,1:])\n",
    "        for j in xrange(1, arrays[0].size):\n",
    "            out[j*m:(j+1)*m,1:] = out[0:m,1:]\n",
    "    return out"
   ]
  },
  {
   "cell_type": "code",
   "execution_count": 41,
   "metadata": {
    "collapsed": false
   },
   "outputs": [],
   "source": [
    "import time\n",
    "\n",
    "f = np.vectorize(lambda x: int(time.mktime(x.timetuple())))\n",
    "\n",
    "time_dim = f(num2date(ds.variables['time'][:], ds.variables['time'].units))\n",
    "\n",
    "dims = [time_dim, ds['lat'], ds['lon']]\n",
    "        \n",
    "zeros = np.zeros((np.prod([x.size for x in dims]), len(dims) + 1))\n"
   ]
  },
  {
   "cell_type": "markdown",
   "metadata": {},
   "source": [
    "#### Memory error"
   ]
  },
  {
   "cell_type": "code",
   "execution_count": null,
   "metadata": {
    "collapsed": false
   },
   "outputs": [],
   "source": [
    "cartesian(dims, out=zeros)"
   ]
  },
  {
   "cell_type": "code",
   "execution_count": 33,
   "metadata": {
    "collapsed": false
   },
   "outputs": [
    {
     "data": {
      "text/plain": [
       "dtype('int64')"
      ]
     },
     "execution_count": 33,
     "metadata": {},
     "output_type": "execute_result"
    }
   ],
   "source": [
    "time_dim.dtype"
   ]
  }
 ],
 "metadata": {
  "kernelspec": {
   "display_name": "pySpark (Spark 1.5.1)",
   "language": "python",
   "name": "pyspark"
  },
  "language_info": {
   "codemirror_mode": {
    "name": "ipython",
    "version": 2
   },
   "file_extension": ".py",
   "mimetype": "text/x-python",
   "name": "python",
   "nbconvert_exporter": "python",
   "pygments_lexer": "ipython2",
   "version": "2.7.6"
  }
 },
 "nbformat": 4,
 "nbformat_minor": 0
}
