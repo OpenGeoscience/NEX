{
 "cells": [
  {
   "cell_type": "code",
   "execution_count": 1,
   "metadata": {
    "collapsed": false
   },
   "outputs": [
    {
     "data": {
      "text/plain": [
       "<pyspark.context.SparkContext at 0x7f7652529fd0>"
      ]
     },
     "execution_count": 1,
     "metadata": {},
     "output_type": "execute_result"
    }
   ],
   "source": [
    "sc"
   ]
  },
  {
   "cell_type": "code",
   "execution_count": 2,
   "metadata": {
    "collapsed": false
   },
   "outputs": [
    {
     "name": "stdout",
     "output_type": "stream",
     "text": [
      "total 45G\r\n",
      "drwxr-xr-x 2 ubuntu ubuntu 4.0K Oct 19 13:32 .\r\n",
      "drwxr-xr-x 6 root   root   4.0K Oct 19 12:20 ..\r\n",
      "-rw-rw-r-- 1 ubuntu ubuntu  14K Oct 19 12:59 log\r\n",
      "-rw-rw-r-- 1 ubuntu ubuntu 639M Oct 19 13:26 pr_day_BCSD_historical_r1i1p1_ACCESS1-0_1997.nc\r\n",
      "-rw-rw-r-- 1 ubuntu ubuntu 757M Oct 19 13:13 pr_day_BCSD_historical_r1i1p1_bcc-csm1-1_1997.nc\r\n",
      "-rw-rw-r-- 1 ubuntu ubuntu 745M Oct 19 13:19 pr_day_BCSD_historical_r1i1p1_BNU-ESM_1997.nc\r\n",
      "-rw-rw-r-- 1 ubuntu ubuntu 773M Oct 19 13:04 pr_day_BCSD_historical_r1i1p1_CanESM2_1997.nc\r\n",
      "-rw-rw-r-- 1 ubuntu ubuntu 568M Oct 19 13:14 pr_day_BCSD_historical_r1i1p1_CCSM4_1997.nc\r\n",
      "-rw-rw-r-- 1 ubuntu ubuntu 573M Oct 19 13:06 pr_day_BCSD_historical_r1i1p1_CESM1-BGC_1997.nc\r\n",
      "-rw-rw-r-- 1 ubuntu ubuntu 622M Oct 19 13:21 pr_day_BCSD_historical_r1i1p1_CNRM-CM5_1997.nc\r\n",
      "-rw-rw-r-- 1 ubuntu ubuntu 664M Oct 19 13:24 pr_day_BCSD_historical_r1i1p1_CSIRO-Mk3-6-0_1997.nc\r\n",
      "-rw-rw-r-- 1 ubuntu ubuntu 666M Oct 19 13:08 pr_day_BCSD_historical_r1i1p1_GFDL-CM3_1997.nc\r\n",
      "-rw-rw-r-- 1 ubuntu ubuntu 694M Oct 19 13:10 pr_day_BCSD_historical_r1i1p1_GFDL-ESM2G_1997.nc\r\n",
      "-rw-rw-r-- 1 ubuntu ubuntu 691M Oct 19 13:17 pr_day_BCSD_historical_r1i1p1_GFDL-ESM2M_1997.nc\r\n",
      "-rw-rw-r-- 1 ubuntu ubuntu 635M Oct 19 13:01 pr_day_BCSD_historical_r1i1p1_inmcm4_1997.nc\r\n",
      "-rw-rw-r-- 1 ubuntu ubuntu 741M Oct 19 13:02 pr_day_BCSD_historical_r1i1p1_IPSL-CM5A-LR_1997.nc\r\n",
      "-rw-rw-r-- 1 ubuntu ubuntu 668M Oct 19 13:01 pr_day_BCSD_historical_r1i1p1_IPSL-CM5A-MR_1997.nc\r\n",
      "-rw-rw-r-- 1 ubuntu ubuntu 628M Oct 19 13:15 pr_day_BCSD_historical_r1i1p1_MIROC5_1997.nc\r\n",
      "-rw-rw-r-- 1 ubuntu ubuntu 757M Oct 19 13:30 pr_day_BCSD_historical_r1i1p1_MIROC-ESM_1997.nc\r\n",
      "-rw-rw-r-- 1 ubuntu ubuntu 759M Oct 19 13:28 pr_day_BCSD_historical_r1i1p1_MIROC-ESM-CHEM_1997.nc\r\n",
      "-rw-rw-r-- 1 ubuntu ubuntu 672M Oct 19 13:06 pr_day_BCSD_historical_r1i1p1_MPI-ESM-LR_1997.nc\r\n",
      "-rw-rw-r-- 1 ubuntu ubuntu 666M Oct 19 13:27 pr_day_BCSD_historical_r1i1p1_MPI-ESM-MR_1997.nc\r\n",
      "-rw-rw-r-- 1 ubuntu ubuntu 571M Oct 19 13:24 pr_day_BCSD_historical_r1i1p1_MRI-CGCM3_1997.nc\r\n",
      "-rw-rw-r-- 1 ubuntu ubuntu 696M Oct 19 13:02 pr_day_BCSD_historical_r1i1p1_NorESM1-M_1997.nc\r\n",
      "-rw-rw-r-- 1 ubuntu ubuntu 763M Oct 19 13:09 tasmax_day_BCSD_historical_r1i1p1_ACCESS1-0_1997.nc\r\n",
      "-rw-rw-r-- 1 ubuntu ubuntu 737M Oct 19 13:31 tasmax_day_BCSD_historical_r1i1p1_bcc-csm1-1_1997.nc\r\n",
      "-rw-rw-r-- 1 ubuntu ubuntu 739M Oct 19 13:18 tasmax_day_BCSD_historical_r1i1p1_BNU-ESM_1997.nc\r\n",
      "-rw-rw-r-- 1 ubuntu ubuntu 740M Oct 19 13:04 tasmax_day_BCSD_historical_r1i1p1_CanESM2_1997.nc\r\n",
      "-rw-rw-r-- 1 ubuntu ubuntu 763M Oct 19 13:11 tasmax_day_BCSD_historical_r1i1p1_CCSM4_1997.nc\r\n",
      "-rw-rw-r-- 1 ubuntu ubuntu 762M Oct 19 13:16 tasmax_day_BCSD_historical_r1i1p1_CESM1-BGC_1997.nc\r\n",
      "-rw-rw-r-- 1 ubuntu ubuntu 755M Oct 19 13:22 tasmax_day_BCSD_historical_r1i1p1_CNRM-CM5_1997.nc\r\n",
      "-rw-rw-r-- 1 ubuntu ubuntu 751M Oct 19 13:29 tasmax_day_BCSD_historical_r1i1p1_CSIRO-Mk3-6-0_1997.nc\r\n",
      "-rw-rw-r-- 1 ubuntu ubuntu 751M Oct 19 13:32 tasmax_day_BCSD_historical_r1i1p1_GFDL-CM3_1997.nc\r\n",
      "-rw-rw-r-- 1 ubuntu ubuntu 754M Oct 19 13:20 tasmax_day_BCSD_historical_r1i1p1_GFDL-ESM2G_1997.nc\r\n",
      "-rw-rw-r-- 1 ubuntu ubuntu 755M Oct 19 13:25 tasmax_day_BCSD_historical_r1i1p1_GFDL-ESM2M_1997.nc\r\n",
      "-rw-rw-r-- 1 ubuntu ubuntu 761M Oct 19 13:12 tasmax_day_BCSD_historical_r1i1p1_inmcm4_1997.nc\r\n",
      "-rw-rw-r-- 1 ubuntu ubuntu 757M Oct 19 13:07 tasmax_day_BCSD_historical_r1i1p1_IPSL-CM5A-LR_1997.nc\r\n",
      "-rw-rw-r-- 1 ubuntu ubuntu 761M Oct 19 13:27 tasmax_day_BCSD_historical_r1i1p1_IPSL-CM5A-MR_1997.nc\r\n",
      "-rw-rw-r-- 1 ubuntu ubuntu 757M Oct 19 13:29 tasmax_day_BCSD_historical_r1i1p1_MIROC5_1997.nc\r\n",
      "-rw-rw-r-- 1 ubuntu ubuntu 740M Oct 19 13:23 tasmax_day_BCSD_historical_r1i1p1_MIROC-ESM_1997.nc\r\n",
      "-rw-rw-r-- 1 ubuntu ubuntu 741M Oct 19 13:14 tasmax_day_BCSD_historical_r1i1p1_MIROC-ESM-CHEM_1997.nc\r\n",
      "-rw-rw-r-- 1 ubuntu ubuntu 753M Oct 19 13:01 tasmax_day_BCSD_historical_r1i1p1_MPI-ESM-LR_1997.nc\r\n",
      "-rw-rw-r-- 1 ubuntu ubuntu 752M Oct 19 13:05 tasmax_day_BCSD_historical_r1i1p1_MPI-ESM-MR_1997.nc\r\n",
      "-rw-rw-r-- 1 ubuntu ubuntu 761M Oct 19 13:18 tasmax_day_BCSD_historical_r1i1p1_MRI-CGCM3_1997.nc\r\n",
      "-rw-rw-r-- 1 ubuntu ubuntu 760M Oct 19 13:03 tasmax_day_BCSD_historical_r1i1p1_NorESM1-M_1997.nc\r\n",
      "-rw-rw-r-- 1 ubuntu ubuntu 768M Oct 19 13:09 tasmin_day_BCSD_historical_r1i1p1_ACCESS1-0_1997.nc\r\n",
      "-rw-rw-r-- 1 ubuntu ubuntu 743M Oct 19 13:12 tasmin_day_BCSD_historical_r1i1p1_bcc-csm1-1_1997.nc\r\n",
      "-rw-rw-r-- 1 ubuntu ubuntu 743M Oct 19 13:07 tasmin_day_BCSD_historical_r1i1p1_BNU-ESM_1997.nc\r\n",
      "-rw-rw-r-- 1 ubuntu ubuntu 744M Oct 19 13:19 tasmin_day_BCSD_historical_r1i1p1_CanESM2_1997.nc\r\n",
      "-rw-rw-r-- 1 ubuntu ubuntu 768M Oct 19 13:20 tasmin_day_BCSD_historical_r1i1p1_CCSM4_1997.nc\r\n",
      "-rw-rw-r-- 1 ubuntu ubuntu 767M Oct 19 13:25 tasmin_day_BCSD_historical_r1i1p1_CESM1-BGC_1997.nc\r\n",
      "-rw-rw-r-- 1 ubuntu ubuntu 761M Oct 19 13:16 tasmin_day_BCSD_historical_r1i1p1_CNRM-CM5_1997.nc\r\n",
      "-rw-rw-r-- 1 ubuntu ubuntu 756M Oct 19 13:28 tasmin_day_BCSD_historical_r1i1p1_CSIRO-Mk3-6-0_1997.nc\r\n",
      "-rw-rw-r-- 1 ubuntu ubuntu 756M Oct 19 13:13 tasmin_day_BCSD_historical_r1i1p1_GFDL-CM3_1997.nc\r\n",
      "-rw-rw-r-- 1 ubuntu ubuntu 759M Oct 19 13:10 tasmin_day_BCSD_historical_r1i1p1_GFDL-ESM2G_1997.nc\r\n",
      "-rw-rw-r-- 1 ubuntu ubuntu 760M Oct 19 13:15 tasmin_day_BCSD_historical_r1i1p1_GFDL-ESM2M_1997.nc\r\n",
      "-rw-rw-r-- 1 ubuntu ubuntu 766M Oct 19 13:30 tasmin_day_BCSD_historical_r1i1p1_inmcm4_1997.nc\r\n",
      "-rw-rw-r-- 1 ubuntu ubuntu 761M Oct 19 13:23 tasmin_day_BCSD_historical_r1i1p1_IPSL-CM5A-LR_1997.nc\r\n",
      "-rw-rw-r-- 1 ubuntu ubuntu 765M Oct 19 13:08 tasmin_day_BCSD_historical_r1i1p1_IPSL-CM5A-MR_1997.nc\r\n",
      "-rw-rw-r-- 1 ubuntu ubuntu 762M Oct 19 13:01 tasmin_day_BCSD_historical_r1i1p1_MIROC5_1997.nc\r\n",
      "-rw-rw-r-- 1 ubuntu ubuntu 744M Oct 19 13:03 tasmin_day_BCSD_historical_r1i1p1_MIROC-ESM_1997.nc\r\n",
      "-rw-rw-r-- 1 ubuntu ubuntu 745M Oct 19 13:05 tasmin_day_BCSD_historical_r1i1p1_MIROC-ESM-CHEM_1997.nc\r\n",
      "-rw-rw-r-- 1 ubuntu ubuntu 758M Oct 19 13:32 tasmin_day_BCSD_historical_r1i1p1_MPI-ESM-LR_1997.nc\r\n",
      "-rw-rw-r-- 1 ubuntu ubuntu 757M Oct 19 13:26 tasmin_day_BCSD_historical_r1i1p1_MPI-ESM-MR_1997.nc\r\n",
      "-rw-rw-r-- 1 ubuntu ubuntu 765M Oct 19 13:21 tasmin_day_BCSD_historical_r1i1p1_MRI-CGCM3_1997.nc\r\n",
      "-rw-rw-r-- 1 ubuntu ubuntu 764M Oct 19 13:17 tasmin_day_BCSD_historical_r1i1p1_NorESM1-M_1997.nc\r\n"
     ]
    }
   ],
   "source": [
    "! ls -alh /data/tmp/"
   ]
  },
  {
   "cell_type": "code",
   "execution_count": 3,
   "metadata": {
    "collapsed": false
   },
   "outputs": [],
   "source": [
    "files = !! ls /data/tmp\n",
    "files = [f for f in files if f.endswith('nc')]"
   ]
  },
  {
   "cell_type": "code",
   "execution_count": 36,
   "metadata": {
    "collapsed": true
   },
   "outputs": [],
   "source": [
    "from netCDF4 import Dataset, num2date"
   ]
  },
  {
   "cell_type": "code",
   "execution_count": 5,
   "metadata": {
    "collapsed": true
   },
   "outputs": [],
   "source": [
    "ds = Dataset(\"/data/tmp/\" + files[0], 'r', format='NETCDF4')"
   ]
  },
  {
   "cell_type": "code",
   "execution_count": 27,
   "metadata": {
    "collapsed": false
   },
   "outputs": [
    {
     "data": {
      "text/plain": [
       "(365, 720, 1440)"
      ]
     },
     "execution_count": 27,
     "metadata": {},
     "output_type": "execute_result"
    }
   ],
   "source": [
    "import numpy as np\n",
    "\n",
    "np.shape(ds['pr'])"
   ]
  },
  {
   "cell_type": "markdown",
   "metadata": {},
   "source": [
    "### Example Avro\n",
    "http://avro.apache.org/docs/1.7.7/gettingstartedpython.html"
   ]
  },
  {
   "cell_type": "code",
   "execution_count": null,
   "metadata": {
    "collapsed": true
   },
   "outputs": [],
   "source": [
    "import avro.schema\n",
    "from avro.datafile import DataFileReader, DataFileWriter\n",
    "from avro.io import DatumReader, DatumWriter\n",
    "import json"
   ]
  },
  {
   "cell_type": "code",
   "execution_count": null,
   "metadata": {
    "collapsed": true
   },
   "outputs": [],
   "source": [
    "python_schema = {\n",
    "    \"namespace\": \"example.avro\",\n",
    "    \"type\": \"record\",\n",
    "    \"name\": \"User\",\n",
    "    \"fields\": [\n",
    "         {\"name\": \"name\", \"type\": \"string\"},\n",
    "         {\"name\": \"favorite_number\",  \"type\": [\"int\", \"null\"]},\n",
    "         {\"name\": \"favorite_color\", \"type\": [\"string\", \"null\"]}\n",
    "     ]\n",
    "}"
   ]
  },
  {
   "cell_type": "code",
   "execution_count": null,
   "metadata": {
    "collapsed": false
   },
   "outputs": [],
   "source": [
    "schema = avro.schema.parse(json.dumps(python_schema))"
   ]
  },
  {
   "cell_type": "code",
   "execution_count": null,
   "metadata": {
    "collapsed": true
   },
   "outputs": [],
   "source": [
    "writer = DataFileWriter(open(\"users.avro\", \"w\"), DatumWriter(), schema)\n",
    "writer.append({\"name\": \"Alyssa\", \"favorite_number\": 256})\n",
    "writer.append({\"name\": \"Ben\", \"favorite_number\": 7, \"favorite_color\": \"red\"})\n",
    "writer.close()"
   ]
  },
  {
   "cell_type": "code",
   "execution_count": null,
   "metadata": {
    "collapsed": false
   },
   "outputs": [],
   "source": [
    "reader = DataFileReader(open(\"users.avro\", \"r\"), DatumReader())\n",
    "for user in reader:\n",
    "    print user\n",
    "reader.close()"
   ]
  },
  {
   "cell_type": "markdown",
   "metadata": {},
   "source": [
    "### NetCDF test"
   ]
  },
  {
   "cell_type": "code",
   "execution_count": 187,
   "metadata": {
    "collapsed": true
   },
   "outputs": [],
   "source": [
    "import avro.schema\n",
    "from avro.datafile import DataFileReader, DataFileWriter\n",
    "from avro.io import DatumReader, DatumWriter\n",
    "import json"
   ]
  },
  {
   "cell_type": "code",
   "execution_count": 188,
   "metadata": {
    "collapsed": false
   },
   "outputs": [],
   "source": [
    "import time\n",
    "\n",
    "def netcdf_items(var):\n",
    "    ds = var._grp\n",
    "    \n",
    "    def to_unix_timestamp(i):\n",
    "        return int(time.mktime(num2date(ds.variables['time'][i], \n",
    "                                 ds.variables['time'].units ).timetuple()))\n",
    "\n",
    "    times, lats, lons = var.shape\n",
    "    for t in xrange(times):\n",
    "        for lt in xrange(lats):\n",
    "            for ln in xrange(lons):\n",
    "                yield (to_unix_timestamp(t), \n",
    "                       ds['lat'][lt], ds['lon'][ln], var[t,lt,ln])\n",
    "\n",
    "def netcdf_dicts(var):\n",
    "    for time, lat, lon, v in netcdf_items(var):\n",
    "        yield {\"time\": time, \"lat\": lat,\n",
    "               \"lon\": lon, \"variable\": v}"
   ]
  },
  {
   "cell_type": "code",
   "execution_count": 201,
   "metadata": {
    "collapsed": false
   },
   "outputs": [],
   "source": [
    "python_schema = {\n",
    "    \"namespace\": \"com.kitware.nex_gddp\",\n",
    "    \"type\": \"record\",\n",
    "    \"name\": \"GDDP Record\",\n",
    "    \"fields\": [\n",
    "#        {\"name\": \"key\", \"type\": \"string\"},\n",
    "        {\"name\": \"variable\", \"type\": \"float\"},\n",
    "        {\"name\": \"lat\",  \"type\": \"float\"},\n",
    "        {\"name\": \"lon\", \"type\": \"float\"},\n",
    "        {\"name\": \"time\", \"type\": \"long\"},\n",
    "     ]\n",
    "}\n",
    "\n",
    "schema = avro.schema.parse(json.dumps(python_schema))\n",
    "\n",
    "writer = DataFileWriter(open(\"{}.avro\".format(files[0].split(\".\")[0]), \n",
    "                             \"w\"), DatumWriter(), schema)"
   ]
  },
  {
   "cell_type": "code",
   "execution_count": 202,
   "metadata": {
    "collapsed": false
   },
   "outputs": [
    {
     "ename": "AvroTypeException",
     "evalue": "The datum {'lat': -89.875, 'variable': 0.0, 'lon': 0.125, 'time': 851947200} is not an example of the schema {\n  \"namespace\": \"com.kitware.nex_gddp\", \n  \"type\": \"record\", \n  \"name\": \"GDDP Record\", \n  \"fields\": [\n    {\n      \"type\": \"float\", \n      \"name\": \"variable\"\n    }, \n    {\n      \"type\": \"float\", \n      \"name\": \"lat\"\n    }, \n    {\n      \"type\": \"float\", \n      \"name\": \"lon\"\n    }, \n    {\n      \"type\": \"long\", \n      \"name\": \"time\"\n    }\n  ]\n}",
     "output_type": "error",
     "traceback": [
      "\u001b[1;31m---------------------------------------------------------------------------\u001b[0m",
      "\u001b[1;31mAvroTypeException\u001b[0m                         Traceback (most recent call last)",
      "\u001b[1;32m<ipython-input-202-622b36007e18>\u001b[0m in \u001b[0;36m<module>\u001b[1;34m()\u001b[0m\n\u001b[0;32m      7\u001b[0m \u001b[0mi\u001b[0m \u001b[1;33m=\u001b[0m \u001b[1;36m0\u001b[0m\u001b[1;33m\u001b[0m\u001b[0m\n\u001b[0;32m      8\u001b[0m \u001b[1;32mfor\u001b[0m \u001b[0mitem\u001b[0m \u001b[1;32min\u001b[0m \u001b[0mnetcdf_dicts\u001b[0m\u001b[1;33m(\u001b[0m\u001b[0mds\u001b[0m\u001b[1;33m[\u001b[0m\u001b[0mVAR\u001b[0m\u001b[1;33m]\u001b[0m\u001b[1;33m)\u001b[0m\u001b[1;33m:\u001b[0m\u001b[1;33m\u001b[0m\u001b[0m\n\u001b[1;32m----> 9\u001b[1;33m     \u001b[0mwriter\u001b[0m\u001b[1;33m.\u001b[0m\u001b[0mappend\u001b[0m\u001b[1;33m(\u001b[0m\u001b[0mitem\u001b[0m\u001b[1;33m)\u001b[0m\u001b[1;33m\u001b[0m\u001b[0m\n\u001b[0m\u001b[0;32m     10\u001b[0m     \u001b[0mi\u001b[0m \u001b[1;33m=\u001b[0m \u001b[0mi\u001b[0m \u001b[1;33m+\u001b[0m \u001b[1;36m1\u001b[0m\u001b[1;33m\u001b[0m\u001b[0m\n\u001b[0;32m     11\u001b[0m     \u001b[1;32mif\u001b[0m \u001b[1;33m(\u001b[0m\u001b[0mtime\u001b[0m\u001b[1;33m.\u001b[0m\u001b[0mtime\u001b[0m\u001b[1;33m(\u001b[0m\u001b[1;33m)\u001b[0m \u001b[1;33m-\u001b[0m \u001b[0mt0\u001b[0m\u001b[1;33m)\u001b[0m \u001b[1;33m>\u001b[0m \u001b[1;36m5\u001b[0m\u001b[1;33m:\u001b[0m\u001b[1;33m\u001b[0m\u001b[0m\n",
      "\u001b[1;32m/usr/local/lib/python2.7/dist-packages/avro/datafile.pyc\u001b[0m in \u001b[0;36mappend\u001b[1;34m(self, datum)\u001b[0m\n\u001b[0;32m    194\u001b[0m   \u001b[1;32mdef\u001b[0m \u001b[0mappend\u001b[0m\u001b[1;33m(\u001b[0m\u001b[0mself\u001b[0m\u001b[1;33m,\u001b[0m \u001b[0mdatum\u001b[0m\u001b[1;33m)\u001b[0m\u001b[1;33m:\u001b[0m\u001b[1;33m\u001b[0m\u001b[0m\n\u001b[0;32m    195\u001b[0m     \u001b[1;34m\"\"\"Append a datum to the file.\"\"\"\u001b[0m\u001b[1;33m\u001b[0m\u001b[0m\n\u001b[1;32m--> 196\u001b[1;33m     \u001b[0mself\u001b[0m\u001b[1;33m.\u001b[0m\u001b[0mdatum_writer\u001b[0m\u001b[1;33m.\u001b[0m\u001b[0mwrite\u001b[0m\u001b[1;33m(\u001b[0m\u001b[0mdatum\u001b[0m\u001b[1;33m,\u001b[0m \u001b[0mself\u001b[0m\u001b[1;33m.\u001b[0m\u001b[0mbuffer_encoder\u001b[0m\u001b[1;33m)\u001b[0m\u001b[1;33m\u001b[0m\u001b[0m\n\u001b[0m\u001b[0;32m    197\u001b[0m     \u001b[0mself\u001b[0m\u001b[1;33m.\u001b[0m\u001b[0mblock_count\u001b[0m \u001b[1;33m+=\u001b[0m \u001b[1;36m1\u001b[0m\u001b[1;33m\u001b[0m\u001b[0m\n\u001b[0;32m    198\u001b[0m \u001b[1;33m\u001b[0m\u001b[0m\n",
      "\u001b[1;32m/usr/local/lib/python2.7/dist-packages/avro/io.pyc\u001b[0m in \u001b[0;36mwrite\u001b[1;34m(self, datum, encoder)\u001b[0m\n\u001b[0;32m    767\u001b[0m     \u001b[1;31m# validate datum\u001b[0m\u001b[1;33m\u001b[0m\u001b[1;33m\u001b[0m\u001b[0m\n\u001b[0;32m    768\u001b[0m     \u001b[1;32mif\u001b[0m \u001b[1;32mnot\u001b[0m \u001b[0mvalidate\u001b[0m\u001b[1;33m(\u001b[0m\u001b[0mself\u001b[0m\u001b[1;33m.\u001b[0m\u001b[0mwriters_schema\u001b[0m\u001b[1;33m,\u001b[0m \u001b[0mdatum\u001b[0m\u001b[1;33m)\u001b[0m\u001b[1;33m:\u001b[0m\u001b[1;33m\u001b[0m\u001b[0m\n\u001b[1;32m--> 769\u001b[1;33m       \u001b[1;32mraise\u001b[0m \u001b[0mAvroTypeException\u001b[0m\u001b[1;33m(\u001b[0m\u001b[0mself\u001b[0m\u001b[1;33m.\u001b[0m\u001b[0mwriters_schema\u001b[0m\u001b[1;33m,\u001b[0m \u001b[0mdatum\u001b[0m\u001b[1;33m)\u001b[0m\u001b[1;33m\u001b[0m\u001b[0m\n\u001b[0m\u001b[0;32m    770\u001b[0m \u001b[1;33m\u001b[0m\u001b[0m\n\u001b[0;32m    771\u001b[0m     \u001b[0mself\u001b[0m\u001b[1;33m.\u001b[0m\u001b[0mwrite_data\u001b[0m\u001b[1;33m(\u001b[0m\u001b[0mself\u001b[0m\u001b[1;33m.\u001b[0m\u001b[0mwriters_schema\u001b[0m\u001b[1;33m,\u001b[0m \u001b[0mdatum\u001b[0m\u001b[1;33m,\u001b[0m \u001b[0mencoder\u001b[0m\u001b[1;33m)\u001b[0m\u001b[1;33m\u001b[0m\u001b[0m\n",
      "\u001b[1;31mAvroTypeException\u001b[0m: The datum {'lat': -89.875, 'variable': 0.0, 'lon': 0.125, 'time': 851947200} is not an example of the schema {\n  \"namespace\": \"com.kitware.nex_gddp\", \n  \"type\": \"record\", \n  \"name\": \"GDDP Record\", \n  \"fields\": [\n    {\n      \"type\": \"float\", \n      \"name\": \"variable\"\n    }, \n    {\n      \"type\": \"float\", \n      \"name\": \"lat\"\n    }, \n    {\n      \"type\": \"float\", \n      \"name\": \"lon\"\n    }, \n    {\n      \"type\": \"long\", \n      \"name\": \"time\"\n    }\n  ]\n}"
     ]
    }
   ],
   "source": [
    "import sys\n",
    "\n",
    "VAR='pr'\n",
    "N_ROWS = reduce(lambda x, y: x*y, ds[VAR].shape)\n",
    "\n",
    "t0 = time.time()\n",
    "i = 0\n",
    "for item in netcdf_dicts(ds[VAR]):\n",
    "    writer.append(item)\n",
    "    i = i + 1\n",
    "    if (time.time() - t0) > 5:\n",
    "        print \"{}%\".format((i / float(N_ROWS)) * 100)\n",
    "        sys.out.flush()\n",
    "        t0 = time.time()\n",
    "\n",
    "writer.close()\n"
   ]
  }
 ],
 "metadata": {
  "kernelspec": {
   "display_name": "pySpark (Spark 1.5.1)",
   "language": "python",
   "name": "pyspark"
  },
  "language_info": {
   "codemirror_mode": {
    "name": "ipython",
    "version": 2
   },
   "file_extension": ".py",
   "mimetype": "text/x-python",
   "name": "python",
   "nbconvert_exporter": "python",
   "pygments_lexer": "ipython2",
   "version": "2.7.6"
  }
 },
 "nbformat": 4,
 "nbformat_minor": 0
}
